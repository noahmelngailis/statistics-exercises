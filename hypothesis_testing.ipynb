{
 "cells": [
  {
   "cell_type": "code",
   "execution_count": null,
   "metadata": {},
   "outputs": [],
   "source": [
    "# \n",
    "# Is our television ad driving more sales?"
   ]
  },
  {
   "cell_type": "markdown",
   "metadata": {},
   "source": [
    "Are the average grades in web development vs data science classes different?\n",
    "\n",
    "H(n) The average grades in web dev vs data science are not different\n",
    "\n",
    "H(a) The average graddes in web dev are different from data science\n",
    "\n",
    "\n",
    "Examples:\n",
    "- TP:  The grades in data science are lower because it is a harder class\n",
    "- FP:  The grades are different, because comparing data science month 4 to web dev month 1 (undercoverage?)\n",
    "- TN:  The average grades in web dev vs data science are the same across all cohorts\n",
    "- FN:  The average grades are the same, but the data is self-reported"
   ]
  },
  {
   "cell_type": "markdown",
   "metadata": {},
   "source": [
    "Is there a relationship between how early a student shows up to class and their grade?\n",
    "\n",
    "H(n) = There is no relationship between students grade and when they show up\n",
    "\n",
    "H(a) = The earlier a student shows up to class the lower his/her grade is.\n",
    "\n",
    "Examples:\n",
    "- TP:  Students grades distribution are independent of what time they show up\n",
    "- FP:  student grades distribution are dependent of arrival time, but they show to be independent because of a volunteering error\n",
    "- TN:  Students who show up early get worse grades\n",
    "- FN:  The data shows that students who show up early get worse grades, because the best 5 students in class show up at the same time on the same bus at 8:55"
   ]
  },
  {
   "cell_type": "markdown",
   "metadata": {},
   "source": [
    "Are web dev or data science students more likely to be coffee drinkers?\n",
    "\n",
    "H(n) = There is no relationship between coffee drinking and class type\n",
    "\n",
    "H(a) = web dev students are more likely to be coffee drinkers\n",
    "\n",
    "\n",
    "Examples\n",
    "- TP:  The data shows there is no relationship between coffee drinking and class type\n",
    "- FP:  The data shows there is no relationship between coffee drinking and class type, because the question is asked at the coffee machine\n",
    "- TN:  Web Dev students drink 2 cups more of coffee a day on average\n",
    "- FN:  This question was posed after the web dev students read an article on drinking coffee being sexy"
   ]
  },
  {
   "cell_type": "markdown",
   "metadata": {},
   "source": [
    "Has the network latency gone up since we switched internet service providers?\n",
    "\n",
    "H(n) = There has been no network latency change since switching providers.\n",
    "H(a) = ATT has a terrbible infrastructure and systematically lied and mislead the public in San Antonio for years.  Fuck ATT\n",
    "\n",
    "\n",
    "Examples:\n",
    "\n",
    "- TP:  The internet has been continuously good and there has been no observable change\n",
    "- FP:  There has been no latency change even though the new network is worse, because we got the \"tor bandit\" the day before switching providers\n",
    "- TN:  ATT sucks, has always sucked and we regret doing business with them\n",
    "- FN:  We asked the survey question, \"How much does the new network suck\" to get results"
   ]
  },
  {
   "cell_type": "markdown",
   "metadata": {},
   "source": [
    "Is the website redesign any good?\n",
    "\n",
    "H(n) Traffic to the website is the same as projections\n",
    "\n",
    "H(a) The website redesign is terrible and traffic is significantly down\n",
    "\n",
    "Examples:\n",
    "- TP:  Site visits are equal to projections for the new website\n",
    "- FP:  Site visits are equal to projections, but that is because of drudge report link criticizing the redesign\n",
    "- TN:  Site visits are down as are all other key metrics\n",
    "- FN:  Site visits are down, but other engagement numbers are up, because the redesign fixed a problem that had visitors falling off the site (opening advertisers in a new tab)."
   ]
  },
  {
   "cell_type": "markdown",
   "metadata": {},
   "source": [
    "Is our television ad driving more sales?\n",
    "\n",
    "H(n) Television ad is not driving new sales\n",
    "H(a) Television ad is driving new sales\n",
    "\n",
    "Examples:\n",
    "- TP:  The new ad is blah and nobody is paying attention to it\n",
    "- FP:  The new ad is blah, but Kim Kardashian was seen using our product on Keeping Up with the Kardashians, so sales are still up\n",
    "- TN:  The new ad is awesome and sales are up\n",
    "- FN:  The new ad is awesome but because of a supply issue we are sold out in our major market, and cannot keep up with demand"
   ]
  },
  {
   "cell_type": "code",
   "execution_count": null,
   "metadata": {},
   "outputs": [],
   "source": []
  }
 ],
 "metadata": {
  "kernelspec": {
   "display_name": "Python 3",
   "language": "python",
   "name": "python3"
  },
  "language_info": {
   "codemirror_mode": {
    "name": "ipython",
    "version": 3
   },
   "file_extension": ".py",
   "mimetype": "text/x-python",
   "name": "python",
   "nbconvert_exporter": "python",
   "pygments_lexer": "ipython3",
   "version": "3.7.4"
  }
 },
 "nbformat": 4,
 "nbformat_minor": 2
}
