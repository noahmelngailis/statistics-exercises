{
 "cells": [
  {
   "cell_type": "code",
   "execution_count": 2,
   "metadata": {},
   "outputs": [],
   "source": [
    "import pandas as pd\n",
    "import numpy as np\n",
    "import math\n",
    "from scipy import stats"
   ]
  },
  {
   "cell_type": "code",
   "execution_count": null,
   "metadata": {},
   "outputs": [],
   "source": [
    "# \n",
    "# Is our television ad driving more sales?"
   ]
  },
  {
   "cell_type": "code",
   "execution_count": null,
   "metadata": {},
   "outputs": [],
   "source": []
  },
  {
   "cell_type": "markdown",
   "metadata": {},
   "source": [
    "Are the average grades in web development vs data science classes different?\n",
    "\n",
    "H(n) The average grades in web dev vs data science are not different\n",
    "\n",
    "H(a) The average graddes in web dev are different from data science\n",
    "\n",
    "\n",
    "Examples:\n",
    "- TP:  The grades in data science are lower because it is a harder class\n",
    "- FP:  The grades are different, because comparing data science month 4 to web dev month 1 (undercoverage?)\n",
    "- TN:  The average grades in web dev vs data science are the same across all cohorts\n",
    "- FN:  The average grades are the same, but the data is self-reported"
   ]
  },
  {
   "cell_type": "markdown",
   "metadata": {},
   "source": [
    "Is there a relationship between how early a student shows up to class and their grade?\n",
    "\n",
    "H(n) = There is no relationship between students grade and when they show up\n",
    "\n",
    "H(a) = The earlier a student shows up to class the lower his/her grade is.\n",
    "\n",
    "Examples:\n",
    "- TP:  Students grades distribution are independent of what time they show up\n",
    "- FP:  student grades distribution are dependent of arrival time, but they show to be independent because of a volunteering error\n",
    "- TN:  Students who show up early get worse grades\n",
    "- FN:  The data shows that students who show up early get worse grades, because the best 5 students in class show up at the same time on the same bus at 8:55"
   ]
  },
  {
   "cell_type": "markdown",
   "metadata": {},
   "source": [
    "Are web dev or data science students more likely to be coffee drinkers?\n",
    "\n",
    "H(n) = There is no relationship between coffee drinking and class type\n",
    "\n",
    "H(a) = web dev students are more likely to be coffee drinkers\n",
    "\n",
    "\n",
    "Examples\n",
    "- TP:  The data shows there is no relationship between coffee drinking and class type\n",
    "- FP:  The data shows there is no relationship between coffee drinking and class type, because the question is asked at the coffee machine\n",
    "- TN:  Web Dev students drink 2 cups more of coffee a day on average\n",
    "- FN:  This question was posed after the web dev students read an article on drinking coffee being sexy"
   ]
  },
  {
   "cell_type": "markdown",
   "metadata": {},
   "source": [
    "Has the network latency gone up since we switched internet service providers?\n",
    "\n",
    "H(n) = There has been no network latency change since switching providers.\n",
    "H(a) = ATT has a terrbible infrastructure and systematically lied and mislead the public in San Antonio for years.  Fuck ATT\n",
    "\n",
    "\n",
    "Examples:\n",
    "\n",
    "- TP:  The internet has been continuously good and there has been no observable change\n",
    "- FP:  There has been no latency change even though the new network is worse, because we got the \"tor bandit\" the day before switching providers\n",
    "- TN:  ATT sucks, has always sucked and we regret doing business with them\n",
    "- FN:  We asked the survey question, \"How much does the new network suck\" to get results"
   ]
  },
  {
   "cell_type": "markdown",
   "metadata": {},
   "source": [
    "Is the website redesign any good?\n",
    "\n",
    "H(n) Traffic to the website is the same as projections\n",
    "\n",
    "H(a) The website redesign is terrible and traffic is significantly down\n",
    "\n",
    "Examples:\n",
    "- TP:  Site visits are equal to projections for the new website\n",
    "- FP:  Site visits are equal to projections, but that is because of drudge report link criticizing the redesign\n",
    "- TN:  Site visits are down as are all other key metrics\n",
    "- FN:  Site visits are down, but other engagement numbers are up, because the redesign fixed a problem that had visitors falling off the site (opening advertisers in a new tab)."
   ]
  },
  {
   "cell_type": "markdown",
   "metadata": {},
   "source": [
    "Is our television ad driving more sales?\n",
    "\n",
    "H(n) Television ad is not driving new sales\n",
    "H(a) Television ad is driving new sales\n",
    "\n",
    "Examples:\n",
    "- TP:  The new ad is blah and nobody is paying attention to it\n",
    "- FP:  The new ad is blah, but Kim Kardashian was seen using our product on Keeping Up with the Kardashians, so sales are still up\n",
    "- TN:  The new ad is awesome and sales are up\n",
    "- FN:  The new ad is awesome but because of a supply issue we are sold out in our major market, and cannot keep up with demand"
   ]
  },
  {
   "cell_type": "code",
   "execution_count": 82,
   "metadata": {},
   "outputs": [],
   "source": [
    "# Ace Realty wants to determine whether the average time it takes to sell homes is different for its two offices. \n",
    "# A sample of 40 sales from office #1 revealed a mean of 90 days and a standard deviation of 15 days. \n",
    "# A sample of 50 sales from office #2 revealed a mean of 100 days and a standard deviation of 20 days. \n",
    "# Use a .05 level of significance.\n",
    "\n",
    "\"H(n) There is no difference between the two offices\"\n",
    "\"H(a) There is a differeence between the two offices\"\n",
    "\n",
    "alpha = .05\n",
    "\n",
    "x1 = 90\n",
    "x2 = 100\n",
    "\n",
    "n1 = 40\n",
    "n2 = 50\n",
    "\n",
    "s1 = 15\n",
    "s2 = 20\n",
    "\n",
    "degf = (n1 + n2) - 2 # n - number of categories\n",
    "\n",
    "s_p = math.sqrt(\n",
    "    ((n1 - 1) * s1**2 + (n2 - 1) * s2**2)\n",
    "    /\n",
    "    (n1 + n2 - 2)\n",
    ")\n",
    "\n",
    "t = (x1 - x2) / (s_p * math.sqrt(1 / n1 + 1 / n2))"
   ]
  },
  {
   "cell_type": "code",
   "execution_count": 83,
   "metadata": {},
   "outputs": [
    {
     "data": {
      "text/plain": [
       "-2.6252287036468456"
      ]
     },
     "execution_count": 83,
     "metadata": {},
     "output_type": "execute_result"
    }
   ],
   "source": [
    "t"
   ]
  },
  {
   "cell_type": "code",
   "execution_count": 85,
   "metadata": {},
   "outputs": [
    {
     "data": {
      "text/plain": [
       "'False means we fail to reject the null hypothesis'"
      ]
     },
     "execution_count": 85,
     "metadata": {},
     "output_type": "execute_result"
    }
   ],
   "source": [
    "p = stats.t(degf).sf(t) * 2\n",
    "f'{p < alpha} means we fail to reject the null hypothesis'"
   ]
  },
  {
   "cell_type": "code",
   "execution_count": null,
   "metadata": {},
   "outputs": [],
   "source": []
  },
  {
   "cell_type": "code",
   "execution_count": 81,
   "metadata": {},
   "outputs": [
    {
     "data": {
      "text/html": [
       "<div>\n",
       "<style scoped>\n",
       "    .dataframe tbody tr th:only-of-type {\n",
       "        vertical-align: middle;\n",
       "    }\n",
       "\n",
       "    .dataframe tbody tr th {\n",
       "        vertical-align: top;\n",
       "    }\n",
       "\n",
       "    .dataframe thead th {\n",
       "        text-align: right;\n",
       "    }\n",
       "</style>\n",
       "<table border=\"1\" class=\"dataframe\">\n",
       "  <thead>\n",
       "    <tr style=\"text-align: right;\">\n",
       "      <th></th>\n",
       "      <th>manufacturer</th>\n",
       "      <th>model</th>\n",
       "      <th>displ</th>\n",
       "      <th>year</th>\n",
       "      <th>cyl</th>\n",
       "      <th>trans</th>\n",
       "      <th>drv</th>\n",
       "      <th>cty</th>\n",
       "      <th>hwy</th>\n",
       "      <th>fl</th>\n",
       "      <th>class</th>\n",
       "    </tr>\n",
       "  </thead>\n",
       "  <tbody>\n",
       "    <tr>\n",
       "      <td>1</td>\n",
       "      <td>audi</td>\n",
       "      <td>a4</td>\n",
       "      <td>1.8</td>\n",
       "      <td>1999</td>\n",
       "      <td>4</td>\n",
       "      <td>auto(l5)</td>\n",
       "      <td>f</td>\n",
       "      <td>18</td>\n",
       "      <td>29</td>\n",
       "      <td>p</td>\n",
       "      <td>compact</td>\n",
       "    </tr>\n",
       "    <tr>\n",
       "      <td>2</td>\n",
       "      <td>audi</td>\n",
       "      <td>a4</td>\n",
       "      <td>1.8</td>\n",
       "      <td>1999</td>\n",
       "      <td>4</td>\n",
       "      <td>manual(m5)</td>\n",
       "      <td>f</td>\n",
       "      <td>21</td>\n",
       "      <td>29</td>\n",
       "      <td>p</td>\n",
       "      <td>compact</td>\n",
       "    </tr>\n",
       "    <tr>\n",
       "      <td>3</td>\n",
       "      <td>audi</td>\n",
       "      <td>a4</td>\n",
       "      <td>2.0</td>\n",
       "      <td>2008</td>\n",
       "      <td>4</td>\n",
       "      <td>manual(m6)</td>\n",
       "      <td>f</td>\n",
       "      <td>20</td>\n",
       "      <td>31</td>\n",
       "      <td>p</td>\n",
       "      <td>compact</td>\n",
       "    </tr>\n",
       "    <tr>\n",
       "      <td>4</td>\n",
       "      <td>audi</td>\n",
       "      <td>a4</td>\n",
       "      <td>2.0</td>\n",
       "      <td>2008</td>\n",
       "      <td>4</td>\n",
       "      <td>auto(av)</td>\n",
       "      <td>f</td>\n",
       "      <td>21</td>\n",
       "      <td>30</td>\n",
       "      <td>p</td>\n",
       "      <td>compact</td>\n",
       "    </tr>\n",
       "    <tr>\n",
       "      <td>5</td>\n",
       "      <td>audi</td>\n",
       "      <td>a4</td>\n",
       "      <td>2.8</td>\n",
       "      <td>1999</td>\n",
       "      <td>6</td>\n",
       "      <td>auto(l5)</td>\n",
       "      <td>f</td>\n",
       "      <td>16</td>\n",
       "      <td>26</td>\n",
       "      <td>p</td>\n",
       "      <td>compact</td>\n",
       "    </tr>\n",
       "  </tbody>\n",
       "</table>\n",
       "</div>"
      ],
      "text/plain": [
       "  manufacturer model  displ  year  cyl       trans drv  cty  hwy fl    class\n",
       "1         audi    a4    1.8  1999    4    auto(l5)   f   18   29  p  compact\n",
       "2         audi    a4    1.8  1999    4  manual(m5)   f   21   29  p  compact\n",
       "3         audi    a4    2.0  2008    4  manual(m6)   f   20   31  p  compact\n",
       "4         audi    a4    2.0  2008    4    auto(av)   f   21   30  p  compact\n",
       "5         audi    a4    2.8  1999    6    auto(l5)   f   16   26  p  compact"
      ]
     },
     "execution_count": 81,
     "metadata": {},
     "output_type": "execute_result"
    }
   ],
   "source": [
    "# Load the mpg dataset and use it to answer the following questions:\n",
    "\n",
    "from pydataset import data\n",
    "\n",
    "mpg = data('mpg')\n",
    "\n",
    "\n",
    "mpg.head(5)"
   ]
  },
  {
   "cell_type": "code",
   "execution_count": 98,
   "metadata": {},
   "outputs": [
    {
     "data": {
      "text/plain": [
       "(0.24966221629328164, 0.8030694941407983)"
      ]
     },
     "execution_count": 98,
     "metadata": {},
     "output_type": "execute_result"
    }
   ],
   "source": [
    "# Is there a difference in fuel-efficiency in cars from 2008 vs 1999?\n",
    "\n",
    "\"H(n): There is no difference in fuel efficiency\"\n",
    "\"H(a): There is a difference in fuel efficiency\"\n",
    "\n",
    "mpg['new_mpg'] = .55*mpg.cty + .45*mpg.hwy\n",
    "mpg.head()\n",
    "\n",
    "\n",
    "x1 = mpg[mpg.year == 1999].new_mpg\n",
    "x2 = mpg[mpg.year == 2008].new_mpg\n",
    "\n",
    "t, p0 = stats.ttest_ind(x1, x2)\n",
    "t, p0\n"
   ]
  },
  {
   "cell_type": "code",
   "execution_count": 99,
   "metadata": {},
   "outputs": [
    {
     "data": {
      "text/plain": [
       "'False means we fail to reject the null hypothesis'"
      ]
     },
     "execution_count": 99,
     "metadata": {},
     "output_type": "execute_result"
    }
   ],
   "source": [
    "f'{p0 < alpha} means we fail to reject the null hypothesis'"
   ]
  },
  {
   "cell_type": "code",
   "execution_count": 101,
   "metadata": {},
   "outputs": [
    {
     "data": {
      "text/plain": [
       "(7.785633406850479, 6.133395124728956e-10)"
      ]
     },
     "execution_count": 101,
     "metadata": {},
     "output_type": "execute_result"
    }
   ],
   "source": [
    "# Are compact cars more fuel-efficient than the average car?\n",
    "\n",
    "\"H(n): There is no difference in fuel efficiency\"\n",
    "\"H(a): There is a difference in fuel efficiency\"\n",
    "\n",
    "mpg['new_mpg'] = .55*mpg.cty + .45*mpg.hwy\n",
    "mpg.head()\n",
    "\n",
    "x1 = mpg[mpg['class'] == 'compact'].new_mpg\n",
    "mu = mpg.new_mpg.mean()\n",
    "\n",
    "t, p2 = stats.ttest_1samp(x1, mu)\n",
    "t, p2"
   ]
  },
  {
   "cell_type": "code",
   "execution_count": 102,
   "metadata": {},
   "outputs": [
    {
     "data": {
      "text/plain": [
       "'True means we reject the null hypothesis'"
      ]
     },
     "execution_count": 102,
     "metadata": {},
     "output_type": "execute_result"
    }
   ],
   "source": [
    "f'{p2 < alpha} means we reject the null hypothesis'"
   ]
  },
  {
   "cell_type": "code",
   "execution_count": 103,
   "metadata": {},
   "outputs": [
    {
     "data": {
      "text/plain": [
       "(3.538925682974741, 0.0006892496147887921)"
      ]
     },
     "execution_count": 103,
     "metadata": {},
     "output_type": "execute_result"
    }
   ],
   "source": [
    "# Do manual cars get better gas mileage than automatic cars?\n",
    "\n",
    "\"H(n): There is no difference in fuel efficiency\"\n",
    "\"H(a): There is a difference in fuel efficiency\"\n",
    "\n",
    "mpg['new_mpg'] = .55*mpg.cty + .45*mpg.hwy\n",
    "\n",
    "\n",
    "mpg['transmission'] = mpg.trans.str.split('(').apply(lambda x: x[0])\n",
    "\n",
    "mpg.head()\n",
    "\n",
    "\n",
    "x1 = mpg[mpg.transmission == 'manual'].new_mpg\n",
    "mu = mpg.new_mpg.mean()\n",
    "\n",
    "t, p3 = stats.ttest_1samp(x1, mu)\n",
    "t, p3"
   ]
  },
  {
   "cell_type": "code",
   "execution_count": 100,
   "metadata": {},
   "outputs": [
    {
     "data": {
      "text/plain": [
       "'True means we reject the null hypothesis'"
      ]
     },
     "execution_count": 100,
     "metadata": {},
     "output_type": "execute_result"
    }
   ],
   "source": [
    "f'{p3 < alpha} means we reject the null hypothesis'"
   ]
  },
  {
   "cell_type": "code",
   "execution_count": 104,
   "metadata": {},
   "outputs": [
    {
     "data": {
      "text/html": [
       "<div>\n",
       "<style scoped>\n",
       "    .dataframe tbody tr th:only-of-type {\n",
       "        vertical-align: middle;\n",
       "    }\n",
       "\n",
       "    .dataframe tbody tr th {\n",
       "        vertical-align: top;\n",
       "    }\n",
       "\n",
       "    .dataframe thead th {\n",
       "        text-align: right;\n",
       "    }\n",
       "</style>\n",
       "<table border=\"1\" class=\"dataframe\">\n",
       "  <thead>\n",
       "    <tr style=\"text-align: right;\">\n",
       "      <th></th>\n",
       "      <th>exam_score</th>\n",
       "      <th>hours_studied</th>\n",
       "      <th>study_strategy</th>\n",
       "      <th>handedness</th>\n",
       "      <th>coffee_consumed</th>\n",
       "      <th>hours_slept</th>\n",
       "      <th>how_much_coffee</th>\n",
       "    </tr>\n",
       "  </thead>\n",
       "  <tbody>\n",
       "    <tr>\n",
       "      <td>0</td>\n",
       "      <td>100.591011</td>\n",
       "      <td>9.126291</td>\n",
       "      <td>flashcards</td>\n",
       "      <td>left</td>\n",
       "      <td>0</td>\n",
       "      <td>11</td>\n",
       "      <td>small</td>\n",
       "    </tr>\n",
       "    <tr>\n",
       "      <td>1</td>\n",
       "      <td>95.637086</td>\n",
       "      <td>9.677438</td>\n",
       "      <td>flashcards</td>\n",
       "      <td>left</td>\n",
       "      <td>1</td>\n",
       "      <td>10</td>\n",
       "      <td>small</td>\n",
       "    </tr>\n",
       "    <tr>\n",
       "      <td>2</td>\n",
       "      <td>53.200296</td>\n",
       "      <td>4.550207</td>\n",
       "      <td>NaN</td>\n",
       "      <td>right</td>\n",
       "      <td>5</td>\n",
       "      <td>6</td>\n",
       "      <td>medium</td>\n",
       "    </tr>\n",
       "    <tr>\n",
       "      <td>3</td>\n",
       "      <td>63.934268</td>\n",
       "      <td>6.487848</td>\n",
       "      <td>flashcards</td>\n",
       "      <td>right</td>\n",
       "      <td>4</td>\n",
       "      <td>7</td>\n",
       "      <td>medium</td>\n",
       "    </tr>\n",
       "    <tr>\n",
       "      <td>4</td>\n",
       "      <td>51.186370</td>\n",
       "      <td>6.720959</td>\n",
       "      <td>flashcards</td>\n",
       "      <td>right</td>\n",
       "      <td>5</td>\n",
       "      <td>6</td>\n",
       "      <td>medium</td>\n",
       "    </tr>\n",
       "  </tbody>\n",
       "</table>\n",
       "</div>"
      ],
      "text/plain": [
       "   exam_score  hours_studied study_strategy handedness  coffee_consumed  \\\n",
       "0  100.591011       9.126291     flashcards       left                0   \n",
       "1   95.637086       9.677438     flashcards       left                1   \n",
       "2   53.200296       4.550207            NaN      right                5   \n",
       "3   63.934268       6.487848     flashcards      right                4   \n",
       "4   51.186370       6.720959     flashcards      right                5   \n",
       "\n",
       "   hours_slept how_much_coffee  \n",
       "0           11           small  \n",
       "1           10           small  \n",
       "2            6          medium  \n",
       "3            7          medium  \n",
       "4            6          medium  "
      ]
     },
     "execution_count": 104,
     "metadata": {},
     "output_type": "execute_result"
    }
   ],
   "source": [
    "exam_scores = pd.read_csv(\"exam_scores.csv\") \n",
    "\n",
    "pd.qcut(exam_scores.coffee_consumed, 3)\n",
    "# [(-0.001, 4.0] < (4.0, 6.0] < (6.0, 10.0]]\n",
    "\n",
    "def coffee_bitches(x):\n",
    "    if x < 4:\n",
    "        return 'small'\n",
    "    elif x <= 6:\n",
    "        return 'medium'\n",
    "    else:\n",
    "        return 'large'\n",
    "\n",
    "exam_scores['how_much_coffee'] = exam_scores.coffee_consumed.apply(coffee_bitches)\n",
    "\n",
    "exam_scores.head()"
   ]
  },
  {
   "cell_type": "code",
   "execution_count": 77,
   "metadata": {},
   "outputs": [
    {
     "data": {
      "text/plain": [
       "(8.57954909640931, 1.8245275788279414e-06)"
      ]
     },
     "execution_count": 77,
     "metadata": {},
     "output_type": "execute_result"
    }
   ],
   "source": [
    "# small\n",
    "x = exam_scores[exam_scores.how_much_coffee == 'small'].exam_score\n",
    "mu = exam_scores.exam_score.mean()\n",
    "\n",
    "t, p = stats.ttest_1samp(x, mu)\n",
    "t, p"
   ]
  },
  {
   "cell_type": "code",
   "execution_count": 78,
   "metadata": {},
   "outputs": [
    {
     "data": {
      "text/plain": [
       "(1.1901143379810957, 0.2552819801650254)"
      ]
     },
     "execution_count": 78,
     "metadata": {},
     "output_type": "execute_result"
    }
   ],
   "source": [
    "# medium\n",
    "x = exam_scores[exam_scores.how_much_coffee == 'medium'].exam_score\n",
    "mu = exam_scores.exam_score.mean()\n",
    "\n",
    "t, p = stats.ttest_1samp(x, mu)\n",
    "t, p"
   ]
  },
  {
   "cell_type": "code",
   "execution_count": 79,
   "metadata": {},
   "outputs": [
    {
     "data": {
      "text/plain": [
       "(-7.842799371968028, 4.60423833632296e-06)"
      ]
     },
     "execution_count": 79,
     "metadata": {},
     "output_type": "execute_result"
    }
   ],
   "source": [
    "# large\n",
    "x = exam_scores[exam_scores.how_much_coffee == 'large'].exam_score\n",
    "mu = exam_scores.exam_score.mean()\n",
    "\n",
    "t, p = stats.ttest_1samp(x, mu)\n",
    "t, p"
   ]
  },
  {
   "cell_type": "code",
   "execution_count": null,
   "metadata": {},
   "outputs": [],
   "source": []
  }
 ],
 "metadata": {
  "kernelspec": {
   "display_name": "Python 3",
   "language": "python",
   "name": "python3"
  },
  "language_info": {
   "codemirror_mode": {
    "name": "ipython",
    "version": 3
   },
   "file_extension": ".py",
   "mimetype": "text/x-python",
   "name": "python",
   "nbconvert_exporter": "python",
   "pygments_lexer": "ipython3",
   "version": "3.7.4"
  }
 },
 "nbformat": 4,
 "nbformat_minor": 2
}
