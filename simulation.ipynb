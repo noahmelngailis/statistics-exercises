{
 "cells": [
  {
   "cell_type": "code",
   "execution_count": 10,
   "metadata": {},
   "outputs": [],
   "source": [
    "import numpy as np\n",
    "import pandas as pd\n",
    "# Do your work for this exercise in either a python file named simulation.py or a jupyter notebook named simulation.ipynb.\n",
    "np.random.seed(42)"
   ]
  },
  {
   "cell_type": "code",
   "execution_count": 11,
   "metadata": {},
   "outputs": [
    {
     "data": {
      "text/plain": [
       "0.1589"
      ]
     },
     "execution_count": 11,
     "metadata": {},
     "output_type": "execute_result"
    }
   ],
   "source": [
    "# How likely is it that you roll doubles when rolling two dice?\n",
    "two_rolls = np.random.choice([1, 2, 3, 4, 5, 6], size = (10_000, 2))\n",
    "two_rolls = pd.DataFrame(two_rolls)\n",
    "two_rolls.rename(columns = {0:'First', 1: 'Second'}, inplace = True)\n",
    "bool_rolls = two_rolls['First'] == two_rolls['Second']\n",
    "bool_rolls.mean()"
   ]
  },
  {
   "cell_type": "code",
   "execution_count": 13,
   "metadata": {},
   "outputs": [
    {
     "data": {
      "text/plain": [
       "0.2194"
      ]
     },
     "execution_count": 13,
     "metadata": {},
     "output_type": "execute_result"
    }
   ],
   "source": [
    "# If you flip 8 coins, what is the probability of getting exactly 3 heads? \n",
    "# What is the probability of getting more than 3 heads?\n",
    "\n",
    "eight_flips = np.random.choice([1, 0 ], size =(10_000, 8))\n",
    "eight_flips = pd.DataFrame(eight_flips)\n",
    "(eight_flips.sum(axis = 1) == 3).mean()"
   ]
  },
  {
   "cell_type": "code",
   "execution_count": 15,
   "metadata": {},
   "outputs": [
    {
     "data": {
      "text/plain": [
       "0.6357"
      ]
     },
     "execution_count": 15,
     "metadata": {},
     "output_type": "execute_result"
    }
   ],
   "source": [
    "(eight_flips.sum(axis = 1) > 3).mean()"
   ]
  },
  {
   "cell_type": "code",
   "execution_count": 29,
   "metadata": {
    "scrolled": true
   },
   "outputs": [
    {
     "ename": "AttributeError",
     "evalue": "'function' object has no attribute 'nunique'",
     "output_type": "error",
     "traceback": [
      "\u001b[0;31m---------------------------------------------------------------------------\u001b[0m",
      "\u001b[0;31mAttributeError\u001b[0m                            Traceback (most recent call last)",
      "\u001b[0;32m<ipython-input-29-3e4709c8a1ff>\u001b[0m in \u001b[0;36m<module>\u001b[0;34m\u001b[0m\n\u001b[1;32m      6\u001b[0m \u001b[0mbillboards\u001b[0m \u001b[0;34m=\u001b[0m \u001b[0mpd\u001b[0m\u001b[0;34m.\u001b[0m\u001b[0mDataFrame\u001b[0m\u001b[0;34m(\u001b[0m\u001b[0mbillboards\u001b[0m\u001b[0;34m)\u001b[0m\u001b[0;34m\u001b[0m\u001b[0;34m\u001b[0m\u001b[0m\n\u001b[1;32m      7\u001b[0m \u001b[0mbillboards\u001b[0m\u001b[0;34m.\u001b[0m\u001b[0mrename\u001b[0m\u001b[0;34m(\u001b[0m\u001b[0mcolumns\u001b[0m \u001b[0;34m=\u001b[0m \u001b[0;34m{\u001b[0m\u001b[0;36m0\u001b[0m\u001b[0;34m:\u001b[0m \u001b[0;34m'first'\u001b[0m\u001b[0;34m,\u001b[0m \u001b[0;36m1\u001b[0m\u001b[0;34m:\u001b[0m \u001b[0;34m'second'\u001b[0m\u001b[0;34m}\u001b[0m\u001b[0;34m,\u001b[0m \u001b[0minplace\u001b[0m \u001b[0;34m=\u001b[0m \u001b[0;32mTrue\u001b[0m\u001b[0;34m)\u001b[0m\u001b[0;34m\u001b[0m\u001b[0;34m\u001b[0m\u001b[0m\n\u001b[0;32m----> 8\u001b[0;31m \u001b[0mbillboards\u001b[0m\u001b[0;34m.\u001b[0m\u001b[0mfirst\u001b[0m\u001b[0;34m.\u001b[0m\u001b[0mnunique\u001b[0m\u001b[0;34m(\u001b[0m\u001b[0;34m)\u001b[0m\u001b[0;34m\u001b[0m\u001b[0;34m\u001b[0m\u001b[0m\n\u001b[0m",
      "\u001b[0;31mAttributeError\u001b[0m: 'function' object has no attribute 'nunique'"
     ]
    }
   ],
   "source": [
    "# There are approximitely 3 web development cohorts for every 1 data science cohort at Codeup. \n",
    "#Assuming that Codeup randomly selects an alumni to put on a billboard, \n",
    "#what are the odds that the two billboards I drive past both have data science students on them?\n",
    "\n",
    "billboards = np.random.choice(['web', 'web', 'web', 'data'], size = (10_000, 2))\n",
    "billboards = pd.DataFrame(billboards)\n",
    "billboards.rename(columns = {0: 'first', 1: 'second'}, inplace = True)\n",
    "billboards.first.unique"
   ]
  },
  {
   "cell_type": "code",
   "execution_count": 32,
   "metadata": {},
   "outputs": [
    {
     "ename": "SyntaxError",
     "evalue": "invalid syntax (<ipython-input-32-6591f39aec65>, line 16)",
     "output_type": "error",
     "traceback": [
      "\u001b[0;36m  File \u001b[0;32m\"<ipython-input-32-6591f39aec65>\"\u001b[0;36m, line \u001b[0;32m16\u001b[0m\n\u001b[0;31m    pop_tarts = np.random.normal(3, 1.5, size = (10_000, 5)).astype(int))\u001b[0m\n\u001b[0m                                                                        ^\u001b[0m\n\u001b[0;31mSyntaxError\u001b[0m\u001b[0;31m:\u001b[0m invalid syntax\n"
     ]
    }
   ],
   "source": [
    "# Codeup students buy, on average, 3 poptart packages (+- 1.5) \n",
    "# a day from the snack vending machine. If on monday the machine is restocked with \n",
    "# 17 poptart packages, how likely is it that I will be able to buy some poptarts on Friday afternoon?\n",
    "\n",
    "# def get_rid_of_neg(x):\n",
    "#     if x < 0:\n",
    "#         return 0\n",
    "#     else:\n",
    "#         return x\n",
    "# pop_tarts[0] = pop_tarts[0].apply(lambda x: 0 if x < 0 else x)\n",
    "# pop_tarts[1] = pop_tarts[1].apply(lambda x: 0 if x < 0 else x)\n",
    "# pop_tarts[2] = pop_tarts[2].apply(lambda x: 0 if x < 0 else x)\n",
    "# pop_tarts[3] = pop_tarts[3].apply(lambda x: 0 if x < 0 else x)\n",
    "# pop_tarts[4] = pop_tarts[4].apply(lambda x: 0 if x < 0 else x)\n",
    "\n",
    "pop_tarts = np.random.normal(3, 1.5, size = (10_000, 5)).astype(int)\n",
    "pop_tarts = pd.DataFrame(pop_tarts)\n",
    "pop_tarts = pop_tarts.apply(lambda x: 0 if x < 0 else x, axis = 1)\n",
    "bool_tarts = pop_tarts.sum(axis = 1) < 17\n",
    "bool_tarts.mean()"
   ]
  },
  {
   "cell_type": "code",
   "execution_count": 38,
   "metadata": {},
   "outputs": [
    {
     "data": {
      "text/plain": [
       "0.2136"
      ]
     },
     "execution_count": 38,
     "metadata": {},
     "output_type": "execute_result"
    }
   ],
   "source": [
    "# Compare Heights\n",
    "# Men have an average height of 178 cm and standard deviation of 8cm.\n",
    "# Women have a mean of 170, sd = 6cm.\n",
    "# If a man and woman are chosen at random, P(woman taller than man)?\n",
    "\n",
    "\n",
    "men_heights = np.random.normal(178, 8, size = 10_000)\n",
    "women_heights = np.random.normal(170, 6, size = 10_000)\n",
    "\n",
    "heights = pd.DataFrame()\n",
    "heights['men'] = men_heights\n",
    "heights['women'] = women_heights\n",
    "\n",
    "\n",
    "(heights.women > heights.men).mean()\n"
   ]
  },
  {
   "cell_type": "code",
   "execution_count": 37,
   "metadata": {},
   "outputs": [
    {
     "data": {
      "text/plain": [
       "0.6753"
      ]
     },
     "execution_count": 37,
     "metadata": {},
     "output_type": "execute_result"
    }
   ],
   "source": [
    "# When installing anaconda on a student's computer, there's a 1 in 250 chance that the download\n",
    "# is corrupted and the installation fails. What are the odds that after having 50 students \n",
    "# download anaconda, no one has an installation issue? 100 students?\n",
    "\n",
    "conda_corrupt = np.random.choice([1, 0 ], size = (10_000, 50), p = (1/250, 249/250))\n",
    "(conda_corrupt.sum(axis = 1) == 0).mean()\n",
    "conda_corrupt = np.random.choice([1, 0 ], size = (10_000, 100), p = (1/250, 249/250))\n",
    "(conda_corrupt.sum(axis = 1) == 0).mean()"
   ]
  },
  {
   "cell_type": "code",
   "execution_count": 176,
   "metadata": {},
   "outputs": [
    {
     "data": {
      "text/plain": [
       "0.3333"
      ]
     },
     "execution_count": 176,
     "metadata": {},
     "output_type": "execute_result"
    }
   ],
   "source": [
    "# What is the probability that we observe an installation \n",
    "# issue within the first 150 students that download anaconda?\n",
    "conda_corrupt = np.random.choice([1, 0 ], size = (10_000, 150), p = (1/250, 249/250))\n",
    "(conda_corrupt.sum(axis = 1) == 1).mean()"
   ]
  },
  {
   "cell_type": "code",
   "execution_count": 177,
   "metadata": {},
   "outputs": [
    {
     "data": {
      "text/plain": [
       "0.1631"
      ]
     },
     "execution_count": 177,
     "metadata": {},
     "output_type": "execute_result"
    }
   ],
   "source": [
    "# How likely is it that 450 students all download anaconda without an issue?\n",
    "conda_corrupt = np.random.choice([1, 0 ], size = (10_000, 450), p = (1/250, 249/250))\n",
    "(conda_corrupt.sum(axis = 1) == 0).mean()"
   ]
  },
  {
   "cell_type": "code",
   "execution_count": 180,
   "metadata": {},
   "outputs": [
    {
     "data": {
      "text/plain": [
       "0.0278"
      ]
     },
     "execution_count": 180,
     "metadata": {},
     "output_type": "execute_result"
    }
   ],
   "source": [
    "# There's a 70% chance on any given day that there will be at least one food truck at Travis Park. \n",
    "# However, you haven't seen a food truck there in 3 days. How unlikely is this?\n",
    "food_truck = np.random.choice([1,0], size = (10_000, 3), p = (.7, .3))\n",
    "(food_truck.sum(axis = 1) == 0).mean()"
   ]
  },
  {
   "cell_type": "code",
   "execution_count": 181,
   "metadata": {},
   "outputs": [
    {
     "data": {
      "text/plain": [
       "0.9971"
      ]
     },
     "execution_count": 181,
     "metadata": {},
     "output_type": "execute_result"
    }
   ],
   "source": [
    "# How likely is it that a food truck will show up sometime this week?\n",
    "food_truck = np.random.choice([1,0], size = (10_000, 5), p = (.7, .3))\n",
    "(food_truck.sum(axis = 1) > 0).mean()"
   ]
  },
  {
   "cell_type": "code",
   "execution_count": 3,
   "metadata": {},
   "outputs": [
    {
     "data": {
      "text/plain": [
       "0.5072"
      ]
     },
     "execution_count": 3,
     "metadata": {},
     "output_type": "execute_result"
    }
   ],
   "source": [
    "# If 23 people are in the same room, what are the odds that two of them share a birthday? \n",
    "# What if it's 20 people? 40?\n",
    "\n",
    "# def same_number():\n",
    "#     for x in list_x:\n",
    "#         if x \n",
    "\n",
    "birthday = np.random.randint(1, 366, size = (10_000, 23))\n",
    "birthday = pd.DataFrame(birthday)\n",
    "\n",
    "((birthday.nunique(axis = 1)) < 23).mean()"
   ]
  },
  {
   "cell_type": "code",
   "execution_count": 5,
   "metadata": {},
   "outputs": [
    {
     "data": {
      "text/plain": [
       "0.4107"
      ]
     },
     "execution_count": 5,
     "metadata": {},
     "output_type": "execute_result"
    }
   ],
   "source": [
    "birthday = np.random.randint(1, 366, size = (10_000, 20))\n",
    "birthday = pd.DataFrame(birthday)\n",
    "((birthday.nunique(axis = 1)) < 20).mean()"
   ]
  },
  {
   "cell_type": "code",
   "execution_count": 7,
   "metadata": {},
   "outputs": [
    {
     "data": {
      "text/plain": [
       "0.8896"
      ]
     },
     "execution_count": 7,
     "metadata": {},
     "output_type": "execute_result"
    }
   ],
   "source": [
    "birthday = np.random.randint(1, 366, size = (10_000, 40))\n",
    "birthday = pd.DataFrame(birthday)\n",
    "((birthday.nunique(axis = 1)) < 40).mean()"
   ]
  },
  {
   "cell_type": "code",
   "execution_count": null,
   "metadata": {},
   "outputs": [],
   "source": []
  }
 ],
 "metadata": {
  "kernelspec": {
   "display_name": "Python 3",
   "language": "python",
   "name": "python3"
  },
  "language_info": {
   "codemirror_mode": {
    "name": "ipython",
    "version": 3
   },
   "file_extension": ".py",
   "mimetype": "text/x-python",
   "name": "python",
   "nbconvert_exporter": "python",
   "pygments_lexer": "ipython3",
   "version": "3.7.4"
  }
 },
 "nbformat": 4,
 "nbformat_minor": 2
}
