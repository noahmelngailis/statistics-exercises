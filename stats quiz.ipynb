{
 "cells": [
  {
   "cell_type": "code",
   "execution_count": 1,
   "metadata": {},
   "outputs": [],
   "source": [
    "import pandas as pd\n",
    "import numpy as np\n",
    "from scipy import stats\n",
    "import matplotlib.pyplot as plt"
   ]
  },
  {
   "cell_type": "markdown",
   "metadata": {},
   "source": [
    "1. 10% complete survey\n",
    "618 total people\n",
    "probability that >= 70 people fill out survey"
   ]
  },
  {
   "cell_type": "code",
   "execution_count": 16,
   "metadata": {},
   "outputs": [
    {
     "data": {
      "text/plain": [
       "0.15107528710211096"
      ]
     },
     "execution_count": 16,
     "metadata": {},
     "output_type": "execute_result"
    }
   ],
   "source": [
    "#1\n",
    "p = .10\n",
    "n = 618\n",
    "\n",
    "survey = stats.binom(n , p).sf(69)\n",
    "survey"
   ]
  },
  {
   "cell_type": "markdown",
   "metadata": {},
   "source": [
    "#2\n",
    "a continuous variable is one that has infinite potential values.  For example choose a decimal between 0 and 1.  A discrete variable has a set range of potential values for example hours in a day.  A variable can be functionally continuous and practically discrete.  A persons height is a continuous variable, if you had the tools to measure to infinitely small sizes, but your height in inches is a discrete variable, because there are a set of potential heights for somebody."
   ]
  },
  {
   "cell_type": "markdown",
   "metadata": {},
   "source": [
    "#3 probability mass function"
   ]
  },
  {
   "cell_type": "markdown",
   "metadata": {},
   "source": [
    "#4 inverse survival function"
   ]
  },
  {
   "cell_type": "markdown",
   "metadata": {},
   "source": [
    "#5\n",
    "uniform:  probability of picking one card out of a deck of cards\n",
    "poisson:  probability of my daughter falling asleep during rest time more than once this week\n",
    "binomial: probability of me waking up before my wife on a given day\n",
    "normal:   probability of selling more than $1200 in juice at my juice bar on a given day"
   ]
  },
  {
   "cell_type": "code",
   "execution_count": 10,
   "metadata": {},
   "outputs": [],
   "source": [
    "#6 uniform"
   ]
  },
  {
   "cell_type": "code",
   "execution_count": 11,
   "metadata": {},
   "outputs": [],
   "source": [
    "#7 normal ??"
   ]
  },
  {
   "cell_type": "code",
   "execution_count": 12,
   "metadata": {},
   "outputs": [],
   "source": [
    "#8 binomial"
   ]
  },
  {
   "cell_type": "markdown",
   "metadata": {},
   "source": [
    "#9 null:  The null hypothesis is that the result of the test will be that there is no change or no differnece.  The alternative hypothesis is the inverse of that and there is a change or a difference.\n",
    "\n",
    "#10. fail to reject \n",
    "\n",
    "#11. reject the null hypothesis\n",
    "\n",
    "#12 yes you could do a t-test\n",
    "H(n) There is no difference in grades from students in the front classroom and any other classroom\n",
    "H(a) The students in the front classroom have lower grades (1 sided)\n",
    "H(a) There is a difference in grades between the students in the front classroom and other classes.\n",
    "\n",
    "#13.  True Positive\n",
    "#14.  False Negative (Type II error)\n"
   ]
  },
  {
   "cell_type": "code",
   "execution_count": 19,
   "metadata": {},
   "outputs": [
    {
     "data": {
      "text/plain": [
       "0.8413447460685429"
      ]
     },
     "execution_count": 19,
     "metadata": {},
     "output_type": "execute_result"
    }
   ],
   "source": [
    "# 60 minutes for lunch - 5 minutes for travel time\n",
    "\n",
    "#55 minutes to eat?\n",
    "\n",
    "mean = 40\n",
    "std = 5\n",
    "\n",
    "esquire = stats.norm(mean, std)\n",
    "esquire.cdf(45)"
   ]
  },
  {
   "cell_type": "code",
   "execution_count": null,
   "metadata": {},
   "outputs": [],
   "source": []
  }
 ],
 "metadata": {
  "kernelspec": {
   "display_name": "Python 3",
   "language": "python",
   "name": "python3"
  },
  "language_info": {
   "codemirror_mode": {
    "name": "ipython",
    "version": 3
   },
   "file_extension": ".py",
   "mimetype": "text/x-python",
   "name": "python",
   "nbconvert_exporter": "python",
   "pygments_lexer": "ipython3",
   "version": "3.7.4"
  }
 },
 "nbformat": 4,
 "nbformat_minor": 2
}
