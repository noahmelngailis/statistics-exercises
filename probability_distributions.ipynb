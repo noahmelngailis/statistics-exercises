{
 "cells": [
  {
   "cell_type": "code",
   "execution_count": 6,
   "metadata": {},
   "outputs": [],
   "source": [
    "import pandas as pd\n",
    "import numpy as np\n",
    "from scipy import stats\n",
    "import matplotlib.pyplot as plt"
   ]
  },
  {
   "cell_type": "code",
   "execution_count": null,
   "metadata": {},
   "outputs": [],
   "source": [
    "# For the following problems, use python to simulate the problem and calculate an \n",
    "# experimental probability, then compare that to the theoretical probability.\n",
    "\n",
    "# You want to get lunch at La Panaderia, but notice that the line is usually very long at lunchtime. After several weeks of careful observation, you notice that the average number of people in line when your lunch break starts is normally distributed with a mean of 15 and standard deviation of 3. If it takes 2 minutes for each person to order, and 10 minutes from ordering to getting your food, what is the likelihood that you have at least 15 minutes left to eat your food before you have to go back to class? Assume you have one hour for lunch, and ignore travel time to and from La Panaderia.\n",
    "\n",
    "# Connect to the employees database and find the average salary of current employees, along with the standard deviation. Model the distribution of employees salaries with a normal distribution and answer the following questions:\n",
    "\n",
    "# What percent of employees earn less than 60,000?\n",
    "# What percent of employees earn more than 95,000?\n",
    "# What percent of employees earn between 65,000 and 80,000?\n",
    "# What do the top 5% of employees make?"
   ]
  },
  {
   "cell_type": "code",
   "execution_count": 9,
   "metadata": {},
   "outputs": [
    {
     "data": {
      "text/plain": [
       "<BarContainer object of 10 artists>"
      ]
     },
     "execution_count": 9,
     "metadata": {},
     "output_type": "execute_result"
    },
    {
     "data": {
      "image/png": "[encoded data removed]",
      "text/plain": [
       "<Figure size 432x288 with 1 Axes>"
      ]
     },
     "metadata": {
      "needs_background": "light"
     },
     "output_type": "display_data"
    }
   ],
   "source": [
    "# # A bank found that the average number of cars waiting during the noon hour at a drive-up window follows a Poisson\n",
    "# distribution with a mean of 2 cars. Make a chart of this distribution and answer these questions \n",
    "# concerning the probability of cars waiting at the drive-up window.\n",
    "\n",
    "bank = stats.poisson(2)\n",
    "x = range(0,10)\n",
    "y = stats.poisson(2).pmf(x)\n",
    "plt.bar(x, y)"
   ]
  },
  {
   "cell_type": "code",
   "execution_count": 20,
   "metadata": {},
   "outputs": [
    {
     "data": {
      "text/plain": [
       "(0.1353352832366127, 0.1394)"
      ]
     },
     "execution_count": 20,
     "metadata": {},
     "output_type": "execute_result"
    }
   ],
   "source": [
    "# What is the probability that no cars drive up in the noon hour?\n",
    "theory = stats.poisson(2).pmf(0)\n",
    "\n",
    "sim_array = stats.poisson(2).rvs(10_000)\n",
    "sim = (sim_array == 0).mean()\n",
    "\n",
    "theory, sim"
   ]
  },
  {
   "cell_type": "code",
   "execution_count": 23,
   "metadata": {},
   "outputs": [
    {
     "data": {
      "text/plain": [
       "(0.32332358381693654, 0.3208)"
      ]
     },
     "execution_count": 23,
     "metadata": {},
     "output_type": "execute_result"
    }
   ],
   "source": [
    "# What is the probability that 3 or more cars come through the drive through?\n",
    "theory = stats.poisson(2).sf(2.9)\n",
    "sim_array = stats.poisson(2).rvs(10_000)\n",
    "sim = (sim_array >= 3).mean()\n",
    "\n",
    "theory, sim"
   ]
  },
  {
   "cell_type": "code",
   "execution_count": 24,
   "metadata": {
    "scrolled": true
   },
   "outputs": [
    {
     "data": {
      "text/plain": [
       "(0.8646647167633873, 0.867)"
      ]
     },
     "execution_count": 24,
     "metadata": {},
     "output_type": "execute_result"
    }
   ],
   "source": [
    "# How likely is it that the drive through gets at least 1 car?\n",
    "theory = stats.poisson(2).sf(.9)\n",
    "sim_array = stats.poisson(2).rvs(10_000)\n",
    "sim = (sim_array >= 1).mean()\n",
    "\n",
    "theory, sim"
   ]
  },
  {
   "cell_type": "code",
   "execution_count": 25,
   "metadata": {},
   "outputs": [],
   "source": [
    "# Grades of State University graduates are normally distributed with a \n",
    "# mean of 3.0 and a standard deviation of .3. Calculate the following:"
   ]
  },
  {
   "cell_type": "code",
   "execution_count": 33,
   "metadata": {},
   "outputs": [
    {
     "data": {
      "text/plain": [
       "(3.4934560880854417, 3.4906678943003597)"
      ]
     },
     "execution_count": 33,
     "metadata": {},
     "output_type": "execute_result"
    }
   ],
   "source": [
    "# What grade point average is required to be in the top 5% of the graduating class?\n",
    "theory = stats.norm(3, .3).isf(.05)\n",
    "sim_array = stats.norm(3, .3).rvs(10_000)\n",
    "sim = np.percentile(sim_array, 95)\n",
    "theory, sim"
   ]
  },
  {
   "cell_type": "code",
   "execution_count": 34,
   "metadata": {},
   "outputs": [
    {
     "data": {
      "text/plain": [
       "(2.689069983151863, 2.678272389352623)"
      ]
     },
     "execution_count": 34,
     "metadata": {},
     "output_type": "execute_result"
    }
   ],
   "source": [
    "# What GPA constitutes the bottom 15% of the class?\n",
    "theory = stats.norm(3, .3).ppf(.15)\n",
    "sim_array = stats.norm(3, .3).rvs(10_000)\n",
    "sim = np.percentile(sim_array, 15)\n",
    "theory, sim"
   ]
  },
  {
   "cell_type": "code",
   "execution_count": 42,
   "metadata": {},
   "outputs": [
    {
     "data": {
      "text/plain": [
       "([2.842679846187588, 2.7475136299281258],\n",
       " [2.8431245779500385, 2.747893495566992])"
      ]
     },
     "execution_count": 42,
     "metadata": {},
     "output_type": "execute_result"
    }
   ],
   "source": [
    "# An eccentric alumnus left scholarship money for students in the third decile from the bottom of their class.\n",
    "# Determine the range of the third decile. Would a student with a 2.8 grade point average qualify for this scholarship?\n",
    "#1st decile 1 - 10 %\n",
    "# 2nd decile 11 - 20%\n",
    "# 3rd decile 21 - 30%\n",
    "theory_low = stats.norm(3, .3).ppf(.2)\n",
    "theory_high = stats.norm(3, .3).ppf(.3)\n",
    "theory_third = [theory_high, theory_low]\n",
    "sim_array = stats.norm(3, .3).rvs(10_000)\n",
    "sim_low = np.percentile(sim_array, 20)\n",
    "sim_high = np.percentile(sim_array, 30)\n",
    "sim_third = [sim_high, sim_low]\n",
    "theory_third, sim_third\n",
    "\n",
    "#yes\n"
   ]
  },
  {
   "cell_type": "code",
   "execution_count": 45,
   "metadata": {},
   "outputs": [
    {
     "data": {
      "text/plain": [
       "(0.9522096477271853, 0.9514)"
      ]
     },
     "execution_count": 45,
     "metadata": {},
     "output_type": "execute_result"
    }
   ],
   "source": [
    "# If I have a GPA of 3.5, what percentile am I in?\n",
    "theory = 1 - stats.norm(3, .3).sf(3.5)\n",
    "sim_array = stats.norm(3, .3).rvs(10_000)\n",
    "sim = 1 - (sim_array >= 3.5).mean()  #although this could be written as sim_array < 3.5 it would make logical understanding of the problem ambiguous\n",
    "theory, sim"
   ]
  },
  {
   "cell_type": "code",
   "execution_count": 64,
   "metadata": {},
   "outputs": [
    {
     "data": {
      "text/plain": [
       "(0.1397582363130086, 0.1446)"
      ]
     },
     "execution_count": 64,
     "metadata": {},
     "output_type": "execute_result"
    }
   ],
   "source": [
    "# A marketing website has an average click-through rate of 2%. \n",
    "# One day they observe 4326 visitors and 97 click-throughs. \n",
    "# How likely is it that this many people or more click through?\n",
    "click_distributions = stats.binom(4326, .02)\n",
    "theory = click_distributions.sf(96)\n",
    "sim_array = click_distributions.rvs(10_000)\n",
    "sim = (sim_array > 96).mean()\n",
    "theory, sim"
   ]
  },
  {
   "cell_type": "code",
   "execution_count": 71,
   "metadata": {},
   "outputs": [
    {
     "data": {
      "text/plain": [
       "(0.4528433576092388, 0.4467)"
      ]
     },
     "execution_count": 71,
     "metadata": {},
     "output_type": "execute_result"
    }
   ],
   "source": [
    "# You are working on some statistics homework consisting of 100 questions where all of the answers\n",
    "# are a probability rounded to the hundreths place.\n",
    "# Looking to save time, you put down random probabilities as the answer to each question.\n",
    "\n",
    "# What is the probability that at least one of your first 60 answers is correct?\n",
    "\n",
    "homework = stats.binom(60, .01)\n",
    "theory = homework.sf(0)\n",
    "sim_array = homework.rvs(10_000)\n",
    "sim = (sim_array > 0).mean()\n",
    "theory, sim"
   ]
  },
  {
   "cell_type": "code",
   "execution_count": 83,
   "metadata": {},
   "outputs": [
    {
     "data": {
      "text/plain": [
       "(0.8342199288437355, 0.8276)"
      ]
     },
     "execution_count": 83,
     "metadata": {},
     "output_type": "execute_result"
    }
   ],
   "source": [
    "# The codeup staff tends to get upset when the student break area is not cleaned up. \n",
    "# Suppose that there's a 3% chance that any one student cleans the break area when they visit it, \n",
    "# and, on any given day, about 90% of the 3 active cohorts of 22 students visit the break area. \n",
    "# How likely is it that the break area gets cleaned up each day? \n",
    "p = .03\n",
    "n = round(.90 * 3 * 22)\n",
    "cleaned = stats.binom(n, p)\n",
    "theory = cleaned.sf(0)\n",
    "sim_array = cleaned.rvs(10_000)\n",
    "sim = (sim_array > 0).mean()\n",
    "theory, sim\n"
   ]
  },
  {
   "cell_type": "code",
   "execution_count": null,
   "metadata": {},
   "outputs": [],
   "source": [
    "# How likely is it that it goes two days without getting cleaned up?\n",
    "p = .03\n",
    "n = round(.90 * 3 * 22)\n",
    "cleaned = stats.binom(n, p)\n",
    "theory = cleaned.sf(0)\n",
    "sim_array = cleaned.rvs(10_000)\n",
    "sim = (sim_array > 0).mean()\n",
    "theory, sim"
   ]
  },
  {
   "cell_type": "code",
   "execution_count": null,
   "metadata": {},
   "outputs": [],
   "source": [
    "#  All week?"
   ]
  }
 ],
 "metadata": {
  "kernelspec": {
   "display_name": "Python 3",
   "language": "python",
   "name": "python3"
  },
  "language_info": {
   "codemirror_mode": {
    "name": "ipython",
    "version": 3
   },
   "file_extension": ".py",
   "mimetype": "text/x-python",
   "name": "python",
   "nbconvert_exporter": "python",
   "pygments_lexer": "ipython3",
   "version": "3.7.4"
  }
 },
 "nbformat": 4,
 "nbformat_minor": 2
}
