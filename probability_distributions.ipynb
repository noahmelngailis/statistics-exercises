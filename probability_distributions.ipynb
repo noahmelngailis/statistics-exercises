{
 "cells": [
  {
   "cell_type": "code",
   "execution_count": 6,
   "metadata": {},
   "outputs": [],
   "source": [
    "import pandas as pd\n",
    "import numpy as np\n",
    "from scipy import stats\n",
    "import matplotlib.pyplot as plt"
   ]
  },
  {
   "cell_type": "code",
   "execution_count": null,
   "metadata": {},
   "outputs": [],
   "source": [
    "# For the following problems, use python to simulate the problem and calculate an \n",
    "# experimental probability, then compare that to the theoretical probability.\n",
    "\n",
    "# Connect to the employees database and find the average salary of current employees, along with the standard deviation. Model the distribution of employees salaries with a normal distribution and answer the following questions:\n",
    "\n",
    "# What percent of employees earn less than 60,000?\n",
    "# What percent of employees earn more than 95,000?\n",
    "# What percent of employees earn between 65,000 and 80,000?\n",
    "# What do the top 5% of employees make?"
   ]
  },
  {
   "cell_type": "code",
   "execution_count": 9,
   "metadata": {},
   "outputs": [
    {
     "data": {
      "text/plain": [
       "<BarContainer object of 10 artists>"
      ]
     },
     "execution_count": 9,
     "metadata": {},
     "output_type": "execute_result"
    },
    {
     "data": {
      "image/png": "[encoded data removed]",
      "text/plain": [
       "<Figure size 432x288 with 1 Axes>"
      ]
     },
     "metadata": {
      "needs_background": "light"
     },
     "output_type": "display_data"
    }
   ],
   "source": [
    "# # A bank found that the average number of cars waiting during the noon hour at a drive-up window follows a Poisson\n",
    "# distribution with a mean of 2 cars. Make a chart of this distribution and answer these questions \n",
    "# concerning the probability of cars waiting at the drive-up window.\n",
    "\n",
    "bank = stats.poisson(2)\n",
    "x = range(0,10)\n",
    "y = stats.poisson(2).pmf(x)\n",
    "plt.bar(x, y)"
   ]
  },
  {
   "cell_type": "code",
   "execution_count": 20,
   "metadata": {},
   "outputs": [
    {
     "data": {
      "text/plain": [
       "(0.1353352832366127, 0.1394)"
      ]
     },
     "execution_count": 20,
     "metadata": {},
     "output_type": "execute_result"
    }
   ],
   "source": [
    "# What is the probability that no cars drive up in the noon hour?\n",
    "theory = stats.poisson(2).pmf(0)\n",
    "\n",
    "sim_array = stats.poisson(2).rvs(10_000)\n",
    "sim = (sim_array == 0).mean()\n",
    "\n",
    "theory, sim"
   ]
  },
  {
   "cell_type": "code",
   "execution_count": 23,
   "metadata": {},
   "outputs": [
    {
     "data": {
      "text/plain": [
       "(0.32332358381693654, 0.3208)"
      ]
     },
     "execution_count": 23,
     "metadata": {},
     "output_type": "execute_result"
    }
   ],
   "source": [
    "# What is the probability that 3 or more cars come through the drive through?\n",
    "theory = stats.poisson(2).sf(2.9)\n",
    "sim_array = stats.poisson(2).rvs(10_000)\n",
    "sim = (sim_array >= 3).mean()\n",
    "\n",
    "theory, sim"
   ]
  },
  {
   "cell_type": "code",
   "execution_count": 24,
   "metadata": {
    "scrolled": true
   },
   "outputs": [
    {
     "data": {
      "text/plain": [
       "(0.8646647167633873, 0.867)"
      ]
     },
     "execution_count": 24,
     "metadata": {},
     "output_type": "execute_result"
    }
   ],
   "source": [
    "# How likely is it that the drive through gets at least 1 car?\n",
    "theory = stats.poisson(2).sf(.9)\n",
    "sim_array = stats.poisson(2).rvs(10_000)\n",
    "sim = (sim_array >= 1).mean()\n",
    "\n",
    "theory, sim"
   ]
  },
  {
   "cell_type": "code",
   "execution_count": 25,
   "metadata": {},
   "outputs": [],
   "source": [
    "# Grades of State University graduates are normally distributed with a \n",
    "# mean of 3.0 and a standard deviation of .3. Calculate the following:"
   ]
  },
  {
   "cell_type": "code",
   "execution_count": 33,
   "metadata": {},
   "outputs": [
    {
     "data": {
      "text/plain": [
       "(3.4934560880854417, 3.4906678943003597)"
      ]
     },
     "execution_count": 33,
     "metadata": {},
     "output_type": "execute_result"
    }
   ],
   "source": [
    "# What grade point average is required to be in the top 5% of the graduating class?\n",
    "theory = stats.norm(3, .3).isf(.05)\n",
    "sim_array = stats.norm(3, .3).rvs(10_000)\n",
    "sim = np.percentile(sim_array, 95)\n",
    "theory, sim"
   ]
  },
  {
   "cell_type": "code",
   "execution_count": 34,
   "metadata": {},
   "outputs": [
    {
     "data": {
      "text/plain": [
       "(2.689069983151863, 2.678272389352623)"
      ]
     },
     "execution_count": 34,
     "metadata": {},
     "output_type": "execute_result"
    }
   ],
   "source": [
    "# What GPA constitutes the bottom 15% of the class?\n",
    "theory = stats.norm(3, .3).ppf(.15)\n",
    "sim_array = stats.norm(3, .3).rvs(10_000)\n",
    "sim = np.percentile(sim_array, 15)\n",
    "theory, sim"
   ]
  },
  {
   "cell_type": "code",
   "execution_count": 42,
   "metadata": {},
   "outputs": [
    {
     "data": {
      "text/plain": [
       "([2.842679846187588, 2.7475136299281258],\n",
       " [2.8431245779500385, 2.747893495566992])"
      ]
     },
     "execution_count": 42,
     "metadata": {},
     "output_type": "execute_result"
    }
   ],
   "source": [
    "# An eccentric alumnus left scholarship money for students in the third decile from the bottom of their class.\n",
    "# Determine the range of the third decile. Would a student with a 2.8 grade point average qualify for this scholarship?\n",
    "#1st decile 1 - 10 %\n",
    "# 2nd decile 11 - 20%\n",
    "# 3rd decile 21 - 30%\n",
    "theory_low = stats.norm(3, .3).ppf(.2)\n",
    "theory_high = stats.norm(3, .3).ppf(.3)\n",
    "theory_third = [theory_high, theory_low]\n",
    "sim_array = stats.norm(3, .3).rvs(10_000)\n",
    "sim_low = np.percentile(sim_array, 20)\n",
    "sim_high = np.percentile(sim_array, 30)\n",
    "sim_third = [sim_high, sim_low]\n",
    "theory_third, sim_third\n",
    "\n",
    "#yes\n"
   ]
  },
  {
   "cell_type": "code",
   "execution_count": 45,
   "metadata": {},
   "outputs": [
    {
     "data": {
      "text/plain": [
       "(0.9522096477271853, 0.9514)"
      ]
     },
     "execution_count": 45,
     "metadata": {},
     "output_type": "execute_result"
    }
   ],
   "source": [
    "# If I have a GPA of 3.5, what percentile am I in?\n",
    "theory = 1 - stats.norm(3, .3).sf(3.5)\n",
    "sim_array = stats.norm(3, .3).rvs(10_000)\n",
    "sim = 1 - (sim_array >= 3.5).mean()  #although this could be written as sim_array < 3.5 it would make logical understanding of the problem ambiguous\n",
    "theory, sim"
   ]
  },
  {
   "cell_type": "code",
   "execution_count": 64,
   "metadata": {},
   "outputs": [
    {
     "data": {
      "text/plain": [
       "(0.1397582363130086, 0.1446)"
      ]
     },
     "execution_count": 64,
     "metadata": {},
     "output_type": "execute_result"
    }
   ],
   "source": [
    "# A marketing website has an average click-through rate of 2%. \n",
    "# One day they observe 4326 visitors and 97 click-throughs. \n",
    "# How likely is it that this many people or more click through?\n",
    "click_distributions = stats.binom(4326, .02)\n",
    "theory = click_distributions.sf(96)\n",
    "sim_array = click_distributions.rvs(10_000)\n",
    "sim = (sim_array > 96).mean()\n",
    "theory, sim"
   ]
  },
  {
   "cell_type": "code",
   "execution_count": 71,
   "metadata": {},
   "outputs": [
    {
     "data": {
      "text/plain": [
       "(0.4528433576092388, 0.4467)"
      ]
     },
     "execution_count": 71,
     "metadata": {},
     "output_type": "execute_result"
    }
   ],
   "source": [
    "# You are working on some statistics homework consisting of 100 questions where all of the answers\n",
    "# are a probability rounded to the hundreths place.\n",
    "# Looking to save time, you put down random probabilities as the answer to each question.\n",
    "\n",
    "# What is the probability that at least one of your first 60 answers is correct?\n",
    "\n",
    "homework = stats.binom(60, .01)\n",
    "theory = homework.sf(0)\n",
    "sim_array = homework.rvs(10_000)\n",
    "sim = (sim_array > 0).mean()\n",
    "theory, sim"
   ]
  },
  {
   "cell_type": "code",
   "execution_count": 88,
   "metadata": {},
   "outputs": [
    {
     "data": {
      "text/plain": [
       "(0.8342199288437355, 0.8366)"
      ]
     },
     "execution_count": 88,
     "metadata": {},
     "output_type": "execute_result"
    }
   ],
   "source": [
    "# The codeup staff tends to get upset when the student break area is not cleaned up. \n",
    "# Suppose that there's a 3% chance that any one student cleans the break area when they visit it, \n",
    "# and, on any given day, about 90% of the 3 active cohorts of 22 students visit the break area. \n",
    "# How likely is it that the break area gets cleaned up each day? \n",
    "p = .03\n",
    "n = round(.90 * 3 * 22)\n",
    "cleaned_1_day = stats.binom(n, p)\n",
    "theory_1 = cleaned.sf(0)\n",
    "\n",
    "sim_array = cleaned.rvs(10_000)\n",
    "sim = (sim_array > 0).mean()\n",
    "\n",
    "theory, sim"
   ]
  },
  {
   "cell_type": "code",
   "execution_count": 90,
   "metadata": {},
   "outputs": [
    {
     "data": {
      "text/plain": [
       "(0.027483031992576113, 0.02900209)"
      ]
     },
     "execution_count": 90,
     "metadata": {},
     "output_type": "execute_result"
    }
   ],
   "source": [
    "# How likely is it that it goes two days without getting cleaned up?\n",
    "#likelihood of not = 1-p for one day\n",
    "#formula (1-p)**days\n",
    "\n",
    "(1-theory)**2, (1-sim)**2"
   ]
  },
  {
   "cell_type": "code",
   "execution_count": 91,
   "metadata": {},
   "outputs": [
    {
     "data": {
      "text/plain": [
       "(0.0001252165138809122, 0.00014324294450988745)"
      ]
     },
     "execution_count": 91,
     "metadata": {},
     "output_type": "execute_result"
    }
   ],
   "source": [
    "#  All week?\n",
    "\n",
    "(1-theory)**5, (1-sim)**5"
   ]
  },
  {
   "cell_type": "code",
   "execution_count": 102,
   "metadata": {},
   "outputs": [
    {
     "data": {
      "text/plain": [
       "<BarContainer object of 59 artists>"
      ]
     },
     "execution_count": 102,
     "metadata": {},
     "output_type": "execute_result"
    },
    {
     "data": {
      "image/png": "[encoded data removed]",
      "text/plain": [
       "<Figure size 432x288 with 1 Axes>"
      ]
     },
     "metadata": {
      "needs_background": "light"
     },
     "output_type": "display_data"
    }
   ],
   "source": [
    "# You want to get lunch at La Panaderia, but notice that the line is usually very long\n",
    "# at lunchtime. After several weeks of careful observation, you notice that the average\n",
    "# number of people in line when your lunch break starts is normally distributed with a \n",
    "# mean of 15 and standard deviation of 3. If it takes 2 minutes for each person to order, \n",
    "# and 10 minutes from ordering to getting your food, what is the likelihood that you have \n",
    "# at least 15 minutes left to eat your food before you have to go back to class?\n",
    "# Assume you have one hour for lunch, and ignore travel time to and from La Panaderia.\n",
    "\n",
    "# 2 minutes per order\n",
    "# mean = 15\n",
    "# std = 3\n",
    "\n",
    "mean_wait_time = 30\n",
    "std_wait_time = 6\n",
    "\n",
    "#10 minutes to get your order\n",
    "#15 minutes to eat\n",
    "# 60 minutes for lunch\n",
    "#60 - 10 - 15 - 2 = 33 minutes to wait in line\n",
    "# find p that you have \n",
    "\n",
    "x = range(1,60)\n",
    "y = stats.norm(mean_wait_time, std_wait_time).pdf(x)\n",
    "plt.bar(x , y)"
   ]
  },
  {
   "cell_type": "code",
   "execution_count": 109,
   "metadata": {},
   "outputs": [
    {
     "data": {
      "text/plain": [
       "(array([  2.,   2.,   2.,   3.,   8.,   4.,  19.,  18.,  30.,  26.,  35.,\n",
       "         59.,  65.,  71., 115., 123., 143., 200., 215., 240., 292., 300.,\n",
       "        346., 407., 424., 431., 422., 473., 452., 540., 514., 526., 428.,\n",
       "        432., 364., 356., 337., 239., 239., 204., 173., 148., 136., 111.,\n",
       "         71.,  54.,  60.,  28.,  28.,  19.,  25.,  11.,  12.,   7.,   3.,\n",
       "          6.,   1.,   0.,   0.,   1.]),\n",
       " array([ 9.01638657,  9.73992888, 10.4634712 , 11.18701351, 11.91055583,\n",
       "        12.63409814, 13.35764045, 14.08118277, 14.80472508, 15.5282674 ,\n",
       "        16.25180971, 16.97535202, 17.69889434, 18.42243665, 19.14597897,\n",
       "        19.86952128, 20.5930636 , 21.31660591, 22.04014822, 22.76369054,\n",
       "        23.48723285, 24.21077517, 24.93431748, 25.6578598 , 26.38140211,\n",
       "        27.10494442, 27.82848674, 28.55202905, 29.27557137, 29.99911368,\n",
       "        30.722656  , 31.44619831, 32.16974062, 32.89328294, 33.61682525,\n",
       "        34.34036757, 35.06390988, 35.78745219, 36.51099451, 37.23453682,\n",
       "        37.95807914, 38.68162145, 39.40516377, 40.12870608, 40.85224839,\n",
       "        41.57579071, 42.29933302, 43.02287534, 43.74641765, 44.46995997,\n",
       "        45.19350228, 45.91704459, 46.64058691, 47.36412922, 48.08767154,\n",
       "        48.81121385, 49.53475616, 50.25829848, 50.98184079, 51.70538311,\n",
       "        52.42892542]),\n",
       " <a list of 60 Patch objects>)"
      ]
     },
     "execution_count": 109,
     "metadata": {},
     "output_type": "execute_result"
    },
    {
     "data": {
      "image/png": "[encoded data removed]",
      "text/plain": [
       "<Figure size 432x288 with 1 Axes>"
      ]
     },
     "metadata": {
      "needs_background": "light"
     },
     "output_type": "display_data"
    }
   ],
   "source": [
    "theory = stats.norm(mean_wait_time, std_wait_time).cdf(33)\n",
    "sim_array = stats.norm(mean_wait_time, std_wait_time).rvs(10_000)\n",
    "sim = (sim_array <= 33).mean()\n",
    "plt.hist(sim_array, bins = 60)"
   ]
  },
  {
   "cell_type": "code",
   "execution_count": 110,
   "metadata": {},
   "outputs": [
    {
     "data": {
      "text/plain": [
       "(0.6914624612740131, 0.7006)"
      ]
     },
     "execution_count": 110,
     "metadata": {},
     "output_type": "execute_result"
    }
   ],
   "source": [
    "theory, sim"
   ]
  },
  {
   "cell_type": "code",
   "execution_count": 122,
   "metadata": {},
   "outputs": [
    {
     "data": {
      "text/html": [
       "<div>\n",
       "<style scoped>\n",
       "    .dataframe tbody tr th:only-of-type {\n",
       "        vertical-align: middle;\n",
       "    }\n",
       "\n",
       "    .dataframe tbody tr th {\n",
       "        vertical-align: top;\n",
       "    }\n",
       "\n",
       "    .dataframe thead th {\n",
       "        text-align: right;\n",
       "    }\n",
       "</style>\n",
       "<table border=\"1\" class=\"dataframe\">\n",
       "  <thead>\n",
       "    <tr style=\"text-align: right;\">\n",
       "      <th></th>\n",
       "      <th>Tables_in_employees</th>\n",
       "    </tr>\n",
       "  </thead>\n",
       "  <tbody>\n",
       "    <tr>\n",
       "      <td>0</td>\n",
       "      <td>current_dept_emp</td>\n",
       "    </tr>\n",
       "    <tr>\n",
       "      <td>1</td>\n",
       "      <td>departments</td>\n",
       "    </tr>\n",
       "    <tr>\n",
       "      <td>2</td>\n",
       "      <td>dept_emp</td>\n",
       "    </tr>\n",
       "    <tr>\n",
       "      <td>3</td>\n",
       "      <td>dept_emp_latest_date</td>\n",
       "    </tr>\n",
       "    <tr>\n",
       "      <td>4</td>\n",
       "      <td>dept_manager</td>\n",
       "    </tr>\n",
       "    <tr>\n",
       "      <td>5</td>\n",
       "      <td>employees</td>\n",
       "    </tr>\n",
       "    <tr>\n",
       "      <td>6</td>\n",
       "      <td>employees_with_departments</td>\n",
       "    </tr>\n",
       "    <tr>\n",
       "      <td>7</td>\n",
       "      <td>salaries</td>\n",
       "    </tr>\n",
       "    <tr>\n",
       "      <td>8</td>\n",
       "      <td>titles</td>\n",
       "    </tr>\n",
       "  </tbody>\n",
       "</table>\n",
       "</div>"
      ],
      "text/plain": [
       "          Tables_in_employees\n",
       "0            current_dept_emp\n",
       "1                 departments\n",
       "2                    dept_emp\n",
       "3        dept_emp_latest_date\n",
       "4                dept_manager\n",
       "5                   employees\n",
       "6  employees_with_departments\n",
       "7                    salaries\n",
       "8                      titles"
      ]
     },
     "execution_count": 122,
     "metadata": {},
     "output_type": "execute_result"
    }
   ],
   "source": [
    "# Connect to the employees database and find the average salary of current employees, \n",
    "# along with the standard deviation. Model the distribution of employees salaries \n",
    "# with a normal distribution and answer the following questions:\n",
    "from env import get_db\n",
    "url = get_db('employees')\n",
    "pd.read_sql('SHOW TABLES', url)"
   ]
  },
  {
   "cell_type": "code",
   "execution_count": 125,
   "metadata": {},
   "outputs": [
    {
     "data": {
      "text/html": [
       "<div>\n",
       "<style scoped>\n",
       "    .dataframe tbody tr th:only-of-type {\n",
       "        vertical-align: middle;\n",
       "    }\n",
       "\n",
       "    .dataframe tbody tr th {\n",
       "        vertical-align: top;\n",
       "    }\n",
       "\n",
       "    .dataframe thead th {\n",
       "        text-align: right;\n",
       "    }\n",
       "</style>\n",
       "<table border=\"1\" class=\"dataframe\">\n",
       "  <thead>\n",
       "    <tr style=\"text-align: right;\">\n",
       "      <th></th>\n",
       "      <th>emp_no</th>\n",
       "      <th>salary</th>\n",
       "      <th>from_date</th>\n",
       "      <th>to_date</th>\n",
       "    </tr>\n",
       "  </thead>\n",
       "  <tbody>\n",
       "    <tr>\n",
       "      <td>0</td>\n",
       "      <td>10001</td>\n",
       "      <td>88958</td>\n",
       "      <td>2002-06-22</td>\n",
       "      <td>9999-01-01</td>\n",
       "    </tr>\n",
       "    <tr>\n",
       "      <td>1</td>\n",
       "      <td>10002</td>\n",
       "      <td>72527</td>\n",
       "      <td>2001-08-02</td>\n",
       "      <td>9999-01-01</td>\n",
       "    </tr>\n",
       "    <tr>\n",
       "      <td>2</td>\n",
       "      <td>10003</td>\n",
       "      <td>43311</td>\n",
       "      <td>2001-12-01</td>\n",
       "      <td>9999-01-01</td>\n",
       "    </tr>\n",
       "    <tr>\n",
       "      <td>3</td>\n",
       "      <td>10004</td>\n",
       "      <td>74057</td>\n",
       "      <td>2001-11-27</td>\n",
       "      <td>9999-01-01</td>\n",
       "    </tr>\n",
       "    <tr>\n",
       "      <td>4</td>\n",
       "      <td>10005</td>\n",
       "      <td>94692</td>\n",
       "      <td>2001-09-09</td>\n",
       "      <td>9999-01-01</td>\n",
       "    </tr>\n",
       "  </tbody>\n",
       "</table>\n",
       "</div>"
      ],
      "text/plain": [
       "   emp_no  salary   from_date     to_date\n",
       "0   10001   88958  2002-06-22  9999-01-01\n",
       "1   10002   72527  2001-08-02  9999-01-01\n",
       "2   10003   43311  2001-12-01  9999-01-01\n",
       "3   10004   74057  2001-11-27  9999-01-01\n",
       "4   10005   94692  2001-09-09  9999-01-01"
      ]
     },
     "execution_count": 125,
     "metadata": {},
     "output_type": "execute_result"
    }
   ],
   "source": [
    "# only current salaries \n",
    "pd.read_sql('SELECT * FROM salaries WHERE to_date > now() LIMIT 5', url)"
   ]
  },
  {
   "cell_type": "code",
   "execution_count": 143,
   "metadata": {},
   "outputs": [
    {
     "data": {
      "text/plain": [
       "(72012.23585730705, 17309.99538025198)"
      ]
     },
     "execution_count": 143,
     "metadata": {},
     "output_type": "execute_result"
    }
   ],
   "source": [
    "#descriptive statistics\n",
    "\n",
    "salaries = pd.read_sql('SELECT * FROM salaries WHERE to_date > now()', url)\n",
    "salaries\n",
    "mean = salaries.salary.mean()\n",
    "std = salaries.salary.std()\n",
    "mean, std"
   ]
  },
  {
   "cell_type": "code",
   "execution_count": 142,
   "metadata": {},
   "outputs": [
    {
     "data": {
      "text/plain": [
       "(array([2.2396e+04, 5.6290e+04, 6.6878e+04, 4.7320e+04, 2.7247e+04,\n",
       "        1.3343e+04, 5.0560e+03, 1.3390e+03, 2.2800e+02, 2.7000e+01]),\n",
       " array([ 38623. ,  50582.7,  62542.4,  74502.1,  86461.8,  98421.5,\n",
       "        110381.2, 122340.9, 134300.6, 146260.3, 158220. ]),\n",
       " <a list of 10 Patch objects>)"
      ]
     },
     "execution_count": 142,
     "metadata": {},
     "output_type": "execute_result"
    },
    {
     "data": {
      "image/png": "[encoded data removed]",
      "text/plain": [
       "<Figure size 432x288 with 1 Axes>"
      ]
     },
     "metadata": {
      "needs_background": "light"
     },
     "output_type": "display_data"
    }
   ],
   "source": [
    "plt.hist(salaries.salary)"
   ]
  },
  {
   "cell_type": "code",
   "execution_count": 156,
   "metadata": {},
   "outputs": [
    {
     "data": {
      "text/plain": [
       "(array([4.3480e+03, 1.8048e+04, 2.5339e+04, 3.0951e+04, 3.3931e+04,\n",
       "        3.2947e+04, 2.6706e+04, 2.0614e+04, 1.5698e+04, 1.1549e+04,\n",
       "        8.1640e+03, 5.1790e+03, 3.1660e+03, 1.8900e+03, 9.5000e+02,\n",
       "        3.8900e+02, 1.6600e+02, 6.2000e+01, 1.6000e+01, 1.1000e+01]),\n",
       " array([ 38623.  ,  44602.85,  50582.7 ,  56562.55,  62542.4 ,  68522.25,\n",
       "         74502.1 ,  80481.95,  86461.8 ,  92441.65,  98421.5 , 104401.35,\n",
       "        110381.2 , 116361.05, 122340.9 , 128320.75, 134300.6 , 140280.45,\n",
       "        146260.3 , 152240.15, 158220.  ]),\n",
       " <a list of 20 Patch objects>)"
      ]
     },
     "execution_count": 156,
     "metadata": {},
     "output_type": "execute_result"
    },
    {
     "data": {
      "image/png": "[encoded data removed]",
      "text/plain": [
       "<Figure size 432x288 with 1 Axes>"
      ]
     },
     "metadata": {
      "needs_background": "light"
     },
     "output_type": "display_data"
    }
   ],
   "source": [
    "actual = salaries.salary\n",
    "plt.hist(actual, bins = 20)"
   ]
  },
  {
   "cell_type": "code",
   "execution_count": 157,
   "metadata": {},
   "outputs": [
    {
     "data": {
      "text/plain": [
       "(0.24385742480214423, 0.2705727041028802)"
      ]
     },
     "execution_count": 157,
     "metadata": {},
     "output_type": "execute_result"
    }
   ],
   "source": [
    "# What percent of employees earn less than 60,000?\n",
    "theory = stats.norm(mean, std)\n",
    "actual_6 = (actual < 60_000).mean()\n",
    "theory.cdf(60_000), actual_6"
   ]
  },
  {
   "cell_type": "code",
   "execution_count": 158,
   "metadata": {},
   "outputs": [
    {
     "data": {
      "text/plain": [
       "(0.09208819199804053, 0.1086272092752078)"
      ]
     },
     "execution_count": 158,
     "metadata": {},
     "output_type": "execute_result"
    }
   ],
   "source": [
    "# What percent of employees earn more than 95,000?\n",
    "actual_95 = (actual > 95_000).mean()\n",
    "theory.sf(95_000), actual_95"
   ]
  },
  {
   "cell_type": "code",
   "execution_count": null,
   "metadata": {},
   "outputs": [],
   "source": [
    "# What percent of employees earn between 65,000 and 80,000?\n"
   ]
  },
  {
   "cell_type": "code",
   "execution_count": 163,
   "metadata": {},
   "outputs": [
    {
     "data": {
      "text/plain": [
       "122944     38623\n",
       "116901     38936\n",
       "161628     38942\n",
       "4707       39012\n",
       "104928     39036\n",
       "           ...  \n",
       "79658     155190\n",
       "123369    155513\n",
       "30486     155709\n",
       "123787    156286\n",
       "26990     158220\n",
       "Name: salary, Length: 240124, dtype: int64"
      ]
     },
     "execution_count": 163,
     "metadata": {},
     "output_type": "execute_result"
    }
   ],
   "source": [
    "# What do the top 5% of employees make?\n",
    "theory.isf(.05),\n",
    "\n",
    "actual.sort_values(ascending = True)\n",
    "\n"
   ]
  },
  {
   "cell_type": "code",
   "execution_count": null,
   "metadata": {},
   "outputs": [],
   "source": []
  }
 ],
 "metadata": {
  "kernelspec": {
   "display_name": "Python 3",
   "language": "python",
   "name": "python3"
  },
  "language_info": {
   "codemirror_mode": {
    "name": "ipython",
    "version": 3
   },
   "file_extension": ".py",
   "mimetype": "text/x-python",
   "name": "python",
   "nbconvert_exporter": "python",
   "pygments_lexer": "ipython3",
   "version": "3.7.4"
  }
 },
 "nbformat": 4,
 "nbformat_minor": 2
}
