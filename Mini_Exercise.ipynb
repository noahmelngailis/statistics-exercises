{
 "cells": [
  {
   "cell_type": "code",
   "execution_count": 2,
   "metadata": {},
   "outputs": [],
   "source": [
    "import numpy as np\n",
    "import pandas as pd\n",
    "from scipy import stats\n",
    "import matplotlib.pyplot as plt"
   ]
  },
  {
   "cell_type": "code",
   "execution_count": null,
   "metadata": {},
   "outputs": [],
   "source": [
    "# Calculate, theoretically (in your head is fine), the expected value for the average of 6 dice rolls.\n",
    "\n",
    "dots = 21 \n",
    "sides = 6\n",
    "e = 3.5\n"
   ]
  },
  {
   "cell_type": "code",
   "execution_count": 23,
   "metadata": {},
   "outputs": [
    {
     "data": {
      "text/plain": [
       "array([3.16666667, 4.5       , 4.16666667, ..., 4.66666667, 3.33333333,\n",
       "       3.33333333])"
      ]
     },
     "execution_count": 23,
     "metadata": {},
     "output_type": "execute_result"
    }
   ],
   "source": [
    "# Write the code necessary to simulate taking the average of 6 dice rolls 10,000 times. \n",
    "# Store each of the 10,000 averages in a list.\n",
    "\n",
    "rolls_avg = np.random.choice(range(1,7), size = (10_000, 6)).mean(axis=1)\n",
    "rolls_avg"
   ]
  },
  {
   "cell_type": "code",
   "execution_count": 32,
   "metadata": {},
   "outputs": [
    {
     "data": {
      "text/plain": [
       "(array([  2.,   0.,   0.,  16.,   0.,   0.,   0.,  28.,   0.,   0.,   0.,\n",
       "         59.,   0.,   0., 107.,   0.,   0.,   0., 173.,   0.,   0.,   0.,\n",
       "        245.,   0.,   0., 330.,   0.,   0.,   0., 496.,   0.,   0.,   0.,\n",
       "        599.,   0.,   0.,   0., 744.,   0.,   0., 861.,   0.,   0.,   0.,\n",
       "        890.,   0.,   0.,   0., 861.,   0.,   0., 889.,   0.,   0.,   0.,\n",
       "        818.,   0.,   0.,   0., 725.,   0.,   0., 626.,   0.,   0.,   0.,\n",
       "        512.,   0.,   0.,   0., 365.,   0.,   0.,   0., 269.,   0.,   0.,\n",
       "        167.,   0.,   0.,   0., 104.,   0.,   0.,   0.,  68.,   0.,   0.,\n",
       "         27.,   0.,   0.,   0.,  10.,   0.,   0.,   0.,   8.,   0.,   0.,\n",
       "          1.]),\n",
       " array([1.33333333, 1.37833333, 1.42333333, 1.46833333, 1.51333333,\n",
       "        1.55833333, 1.60333333, 1.64833333, 1.69333333, 1.73833333,\n",
       "        1.78333333, 1.82833333, 1.87333333, 1.91833333, 1.96333333,\n",
       "        2.00833333, 2.05333333, 2.09833333, 2.14333333, 2.18833333,\n",
       "        2.23333333, 2.27833333, 2.32333333, 2.36833333, 2.41333333,\n",
       "        2.45833333, 2.50333333, 2.54833333, 2.59333333, 2.63833333,\n",
       "        2.68333333, 2.72833333, 2.77333333, 2.81833333, 2.86333333,\n",
       "        2.90833333, 2.95333333, 2.99833333, 3.04333333, 3.08833333,\n",
       "        3.13333333, 3.17833333, 3.22333333, 3.26833333, 3.31333333,\n",
       "        3.35833333, 3.40333333, 3.44833333, 3.49333333, 3.53833333,\n",
       "        3.58333333, 3.62833333, 3.67333333, 3.71833333, 3.76333333,\n",
       "        3.80833333, 3.85333333, 3.89833333, 3.94333333, 3.98833333,\n",
       "        4.03333333, 4.07833333, 4.12333333, 4.16833333, 4.21333333,\n",
       "        4.25833333, 4.30333333, 4.34833333, 4.39333333, 4.43833333,\n",
       "        4.48333333, 4.52833333, 4.57333333, 4.61833333, 4.66333333,\n",
       "        4.70833333, 4.75333333, 4.79833333, 4.84333333, 4.88833333,\n",
       "        4.93333333, 4.97833333, 5.02333333, 5.06833333, 5.11333333,\n",
       "        5.15833333, 5.20333333, 5.24833333, 5.29333333, 5.33833333,\n",
       "        5.38333333, 5.42833333, 5.47333333, 5.51833333, 5.56333333,\n",
       "        5.60833333, 5.65333333, 5.69833333, 5.74333333, 5.78833333,\n",
       "        5.83333333]),\n",
       " <a list of 100 Patch objects>)"
      ]
     },
     "execution_count": 32,
     "metadata": {},
     "output_type": "execute_result"
    },
    {
     "data": {
      "image/png": "[encoded data removed]",
      "text/plain": [
       "<Figure size 432x288 with 1 Axes>"
      ]
     },
     "metadata": {
      "needs_background": "light"
     },
     "output_type": "display_data"
    }
   ],
   "source": [
    "\n",
    "# Plot the distribution of the calculated averages. \n",
    "# What do you notice? What kind of distribution is the underlying random variable (i.e. one dice roll?)\n",
    "plt.hist(rolls_avg, bins = 100)"
   ]
  },
  {
   "cell_type": "markdown",
   "metadata": {},
   "source": [
    "Are the average grades in web development vs data science classes different?\n",
    "\n",
    "H(n) The average grades in web dev vs data science are not different\n",
    "H(a) The average graddes in web dev are different from data science\n"
   ]
  },
  {
   "cell_type": "markdown",
   "metadata": {},
   "source": [
    "Is there a relationship between how early a student shows up to class and their grade?\n",
    "H(n) = There is no relationship between students grade and when they show up\n",
    "H(a) = There is a relationship between students grade and when they show up"
   ]
  },
  {
   "cell_type": "markdown",
   "metadata": {},
   "source": [
    "Are web dev or data science students more likely to be coffee drinkers?\n",
    "H(n) = web dev students are not more likely to be coffee drinkers\n",
    "H(a) = web dev students are more likely to be coffee drinkers"
   ]
  }
 ],
 "metadata": {
  "kernelspec": {
   "display_name": "Python 3",
   "language": "python",
   "name": "python3"
  },
  "language_info": {
   "codemirror_mode": {
    "name": "ipython",
    "version": 3
   },
   "file_extension": ".py",
   "mimetype": "text/x-python",
   "name": "python",
   "nbconvert_exporter": "python",
   "pygments_lexer": "ipython3",
   "version": "3.7.4"
  }
 },
 "nbformat": 4,
 "nbformat_minor": 2
}
